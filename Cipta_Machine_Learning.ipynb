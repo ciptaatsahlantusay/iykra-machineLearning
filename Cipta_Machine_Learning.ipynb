{
  "nbformat": 4,
  "nbformat_minor": 0,
  "metadata": {
    "colab": {
      "name": "Cipta-Machine Learning.ipynb",
      "provenance": [],
      "collapsed_sections": []
    },
    "kernelspec": {
      "name": "python3",
      "display_name": "Python 3"
    }
  },
  "cells": [
    {
      "cell_type": "markdown",
      "metadata": {
        "id": "DG0nrh2uUrbK"
      },
      "source": [
        "**Import Library**"
      ]
    },
    {
      "cell_type": "code",
      "metadata": {
        "id": "FfrF2-gROp8x"
      },
      "source": [
        "# import tools\n",
        "import numpy as np\n",
        "import pandas as pd\n",
        "import matplotlib.pyplot as plt\n",
        "import seaborn as sns\n",
        "from sklearn.cluster import KMeans"
      ],
      "execution_count": 1,
      "outputs": []
    },
    {
      "cell_type": "markdown",
      "metadata": {
        "id": "1iZ18Ua4U426"
      },
      "source": [
        "**Import Data**"
      ]
    },
    {
      "cell_type": "code",
      "metadata": {
        "id": "tahRdGpTPQ0i",
        "colab": {
          "base_uri": "https://localhost:8080/",
          "height": 844
        },
        "outputId": "fc2ab136-c73c-4d7b-e795-dedfc7dde113"
      },
      "source": [
        "# import data\n",
        "\"\"\" File database \"\"\"\n",
        "from google.colab import drive\n",
        "drive.mount('/content/drive')\n",
        "path = \"/content/drive/My Drive/Colab Notebooks/ML_2_Fellow.csv\"\n",
        "\n",
        "data = pd.read_csv(path,encoding= 'iso-8859-1')\n",
        "\n",
        "df = data.copy()\n",
        "df.tail(125)\n"
      ],
      "execution_count": 2,
      "outputs": [
        {
          "output_type": "stream",
          "text": [
            "Drive already mounted at /content/drive; to attempt to forcibly remount, call drive.mount(\"/content/drive\", force_remount=True).\n"
          ],
          "name": "stdout"
        },
        {
          "output_type": "execute_result",
          "data": {
            "text/html": [
              "<div>\n",
              "<style scoped>\n",
              "    .dataframe tbody tr th:only-of-type {\n",
              "        vertical-align: middle;\n",
              "    }\n",
              "\n",
              "    .dataframe tbody tr th {\n",
              "        vertical-align: top;\n",
              "    }\n",
              "\n",
              "    .dataframe thead th {\n",
              "        text-align: right;\n",
              "    }\n",
              "</style>\n",
              "<table border=\"1\" class=\"dataframe\">\n",
              "  <thead>\n",
              "    <tr style=\"text-align: right;\">\n",
              "      <th></th>\n",
              "      <th>Kode_Bayar</th>\n",
              "      <th>Kode_Barang</th>\n",
              "      <th>Barang</th>\n",
              "      <th>Jumlah</th>\n",
              "      <th>Tanggal_Transaksi</th>\n",
              "      <th>Harga_Satuan</th>\n",
              "      <th>Kode_Pelanggan</th>\n",
              "      <th>Negara</th>\n",
              "    </tr>\n",
              "  </thead>\n",
              "  <tbody>\n",
              "    <tr>\n",
              "      <th>541784</th>\n",
              "      <td>581578</td>\n",
              "      <td>22991</td>\n",
              "      <td>GIRAFFE WOODEN RULER</td>\n",
              "      <td>12.0</td>\n",
              "      <td>12/9/2011 12:16</td>\n",
              "      <td>1.95</td>\n",
              "      <td>12713.0</td>\n",
              "      <td>Germany</td>\n",
              "    </tr>\n",
              "    <tr>\n",
              "      <th>541785</th>\n",
              "      <td>581578</td>\n",
              "      <td>23229</td>\n",
              "      <td>VINTAGE DONKEY TAIL GAME</td>\n",
              "      <td>6.0</td>\n",
              "      <td>12/9/2011 12:16</td>\n",
              "      <td>3.75</td>\n",
              "      <td>12713.0</td>\n",
              "      <td>Germany</td>\n",
              "    </tr>\n",
              "    <tr>\n",
              "      <th>541786</th>\n",
              "      <td>581578</td>\n",
              "      <td>22622</td>\n",
              "      <td>BOX OF VINTAGE ALPHABET BLOCKS</td>\n",
              "      <td>6.0</td>\n",
              "      <td>12/9/2011 12:16</td>\n",
              "      <td>11.95</td>\n",
              "      <td>12713.0</td>\n",
              "      <td>Germany</td>\n",
              "    </tr>\n",
              "    <tr>\n",
              "      <th>541787</th>\n",
              "      <td>581578,21506,\"FANCY FONT BIRTHDAY CARD, \",12,1...</td>\n",
              "      <td>NaN</td>\n",
              "      <td>NaN</td>\n",
              "      <td>NaN</td>\n",
              "      <td>NaN</td>\n",
              "      <td>NaN</td>\n",
              "      <td>NaN</td>\n",
              "      <td>NaN</td>\n",
              "    </tr>\n",
              "    <tr>\n",
              "      <th>541788</th>\n",
              "      <td>581578</td>\n",
              "      <td>21507</td>\n",
              "      <td>ELEPHANT BIRTHDAY CARD</td>\n",
              "      <td>12.0</td>\n",
              "      <td>12/9/2011 12:16</td>\n",
              "      <td>0.42</td>\n",
              "      <td>12713.0</td>\n",
              "      <td>Germany</td>\n",
              "    </tr>\n",
              "    <tr>\n",
              "      <th>...</th>\n",
              "      <td>...</td>\n",
              "      <td>...</td>\n",
              "      <td>...</td>\n",
              "      <td>...</td>\n",
              "      <td>...</td>\n",
              "      <td>...</td>\n",
              "      <td>...</td>\n",
              "      <td>...</td>\n",
              "    </tr>\n",
              "    <tr>\n",
              "      <th>541904</th>\n",
              "      <td>581587</td>\n",
              "      <td>22613</td>\n",
              "      <td>PACK OF 20 SPACEBOY NAPKINS</td>\n",
              "      <td>12.0</td>\n",
              "      <td>12/9/2011 12:50</td>\n",
              "      <td>0.85</td>\n",
              "      <td>12680.0</td>\n",
              "      <td>France</td>\n",
              "    </tr>\n",
              "    <tr>\n",
              "      <th>541905</th>\n",
              "      <td>581587</td>\n",
              "      <td>22899</td>\n",
              "      <td>CHILDREN'S APRON DOLLY GIRL</td>\n",
              "      <td>6.0</td>\n",
              "      <td>12/9/2011 12:50</td>\n",
              "      <td>2.10</td>\n",
              "      <td>12680.0</td>\n",
              "      <td>France</td>\n",
              "    </tr>\n",
              "    <tr>\n",
              "      <th>541906</th>\n",
              "      <td>581587</td>\n",
              "      <td>23254</td>\n",
              "      <td>CHILDRENS CUTLERY DOLLY GIRL</td>\n",
              "      <td>4.0</td>\n",
              "      <td>12/9/2011 12:50</td>\n",
              "      <td>4.15</td>\n",
              "      <td>12680.0</td>\n",
              "      <td>France</td>\n",
              "    </tr>\n",
              "    <tr>\n",
              "      <th>541907</th>\n",
              "      <td>581587</td>\n",
              "      <td>23255</td>\n",
              "      <td>CHILDRENS CUTLERY CIRCUS PARADE</td>\n",
              "      <td>4.0</td>\n",
              "      <td>12/9/2011 12:50</td>\n",
              "      <td>4.15</td>\n",
              "      <td>12680.0</td>\n",
              "      <td>France</td>\n",
              "    </tr>\n",
              "    <tr>\n",
              "      <th>541908</th>\n",
              "      <td>581587</td>\n",
              "      <td>22138</td>\n",
              "      <td>BAKING SET 9 PIECE RETROSPOT</td>\n",
              "      <td>3.0</td>\n",
              "      <td>12/9/2011 12:50</td>\n",
              "      <td>4.95</td>\n",
              "      <td>12680.0</td>\n",
              "      <td>France</td>\n",
              "    </tr>\n",
              "  </tbody>\n",
              "</table>\n",
              "<p>125 rows × 8 columns</p>\n",
              "</div>"
            ],
            "text/plain": [
              "                                               Kode_Bayar  ...   Negara\n",
              "541784                                             581578  ...  Germany\n",
              "541785                                             581578  ...  Germany\n",
              "541786                                             581578  ...  Germany\n",
              "541787  581578,21506,\"FANCY FONT BIRTHDAY CARD, \",12,1...  ...      NaN\n",
              "541788                                             581578  ...  Germany\n",
              "...                                                   ...  ...      ...\n",
              "541904                                             581587  ...   France\n",
              "541905                                             581587  ...   France\n",
              "541906                                             581587  ...   France\n",
              "541907                                             581587  ...   France\n",
              "541908                                             581587  ...   France\n",
              "\n",
              "[125 rows x 8 columns]"
            ]
          },
          "metadata": {
            "tags": []
          },
          "execution_count": 2
        }
      ]
    },
    {
      "cell_type": "markdown",
      "metadata": {
        "id": "0G-JhDQCVACw"
      },
      "source": [
        "**Cek Data**"
      ]
    },
    {
      "cell_type": "code",
      "metadata": {
        "id": "5-gIeRLlPTMK",
        "colab": {
          "base_uri": "https://localhost:8080/"
        },
        "outputId": "cef8a714-64cd-45b9-b9c1-b2d650445373"
      },
      "source": [
        "# lihat ukuran\n",
        "df.shape"
      ],
      "execution_count": 3,
      "outputs": [
        {
          "output_type": "execute_result",
          "data": {
            "text/plain": [
              "(541909, 8)"
            ]
          },
          "metadata": {
            "tags": []
          },
          "execution_count": 3
        }
      ]
    },
    {
      "cell_type": "code",
      "metadata": {
        "id": "h5wLN0y5PbPK",
        "colab": {
          "base_uri": "https://localhost:8080/"
        },
        "outputId": "ad952fba-f04f-46f1-a893-231ace7b8490"
      },
      "source": [
        "#lihat tipe data dan jumlah data yang tidak lengkap\n",
        "df.info()"
      ],
      "execution_count": 4,
      "outputs": [
        {
          "output_type": "stream",
          "text": [
            "<class 'pandas.core.frame.DataFrame'>\n",
            "RangeIndex: 541909 entries, 0 to 541908\n",
            "Data columns (total 8 columns):\n",
            " #   Column             Non-Null Count   Dtype  \n",
            "---  ------             --------------   -----  \n",
            " 0   Kode_Bayar         541909 non-null  object \n",
            " 1   Kode_Barang        535874 non-null  object \n",
            " 2   Barang             534420 non-null  object \n",
            " 3   Jumlah             535874 non-null  float64\n",
            " 4   Tanggal_Transaksi  535874 non-null  object \n",
            " 5   Harga_Satuan       535874 non-null  float64\n",
            " 6   Kode_Pelanggan     403182 non-null  float64\n",
            " 7   Negara             535874 non-null  object \n",
            "dtypes: float64(3), object(5)\n",
            "memory usage: 33.1+ MB\n"
          ],
          "name": "stdout"
        }
      ]
    },
    {
      "cell_type": "code",
      "metadata": {
        "id": "YYeOOe9kPe3q",
        "colab": {
          "base_uri": "https://localhost:8080/"
        },
        "outputId": "ccba863e-1936-44b6-ba7c-c74ab8a357c3"
      },
      "source": [
        "# cek null data\n",
        "df.isnull().sum()"
      ],
      "execution_count": 5,
      "outputs": [
        {
          "output_type": "execute_result",
          "data": {
            "text/plain": [
              "Kode_Bayar                0\n",
              "Kode_Barang            6035\n",
              "Barang                 7489\n",
              "Jumlah                 6035\n",
              "Tanggal_Transaksi      6035\n",
              "Harga_Satuan           6035\n",
              "Kode_Pelanggan       138727\n",
              "Negara                 6035\n",
              "dtype: int64"
            ]
          },
          "metadata": {
            "tags": []
          },
          "execution_count": 5
        }
      ]
    },
    {
      "cell_type": "markdown",
      "metadata": {
        "id": "_yOhkl7k33kg"
      },
      "source": [
        "**Preprocessing**\n",
        "Untuk kebutuhan case study, dimana :\n",
        "1. yang mau di aggregate adalah jumlah penjualan (jumlah * harga_satuan)\n",
        "2. tidak ada orang bisnis yang bisa ditanya kenapa nilainya  NaN\n",
        "3. nilai kuantiti negatif adalah untuk barang yang di cancel (kode bayar CXXXXXX)\n",
        "\n",
        "maka hanya kolom jumlah dan harga_satuan yang di dropna"
      ]
    },
    {
      "cell_type": "code",
      "metadata": {
        "id": "4ULb-4XbZcl1"
      },
      "source": [
        "# Mengkonversi  empty string menjadi null\n",
        "df = df.replace('', np.nan)\n",
        "\n",
        "# using dropna() function\n",
        "# 'Membuang' semua baris yang memiliki null data di pada kolom Jumlah dan Harga_satuan \n",
        "df2 = df.dropna(subset=['Jumlah', 'Harga_Satuan'])"
      ],
      "execution_count": 6,
      "outputs": []
    },
    {
      "cell_type": "code",
      "metadata": {
        "colab": {
          "base_uri": "https://localhost:8080/"
        },
        "id": "czcuEX_C5cUm",
        "outputId": "2b47b453-3a65-4333-8325-d6d0b3b51188"
      },
      "source": [
        "# cek null data\n",
        "df2.isnull().sum()"
      ],
      "execution_count": 7,
      "outputs": [
        {
          "output_type": "execute_result",
          "data": {
            "text/plain": [
              "Kode_Bayar                0\n",
              "Kode_Barang               0\n",
              "Barang                 1454\n",
              "Jumlah                    0\n",
              "Tanggal_Transaksi         0\n",
              "Harga_Satuan              0\n",
              "Kode_Pelanggan       132692\n",
              "Negara                    0\n",
              "dtype: int64"
            ]
          },
          "metadata": {
            "tags": []
          },
          "execution_count": 7
        }
      ]
    },
    {
      "cell_type": "markdown",
      "metadata": {
        "id": "LLfKkRv5CyG7"
      },
      "source": [
        "**1. What items customers buy the most and are there any items we should ignore**"
      ]
    },
    {
      "cell_type": "code",
      "metadata": {
        "colab": {
          "base_uri": "https://localhost:8080/"
        },
        "id": "IoluL8VbLFx9",
        "outputId": "871b705f-cebe-4fd6-d1f6-6392327721c4"
      },
      "source": [
        "#buat kolom total\n",
        "df2['Total'] = df2['Jumlah'] * df2['Harga_Satuan']"
      ],
      "execution_count": 8,
      "outputs": [
        {
          "output_type": "stream",
          "text": [
            "/usr/local/lib/python3.7/dist-packages/ipykernel_launcher.py:2: SettingWithCopyWarning: \n",
            "A value is trying to be set on a copy of a slice from a DataFrame.\n",
            "Try using .loc[row_indexer,col_indexer] = value instead\n",
            "\n",
            "See the caveats in the documentation: https://pandas.pydata.org/pandas-docs/stable/user_guide/indexing.html#returning-a-view-versus-a-copy\n",
            "  \n"
          ],
          "name": "stderr"
        }
      ]
    },
    {
      "cell_type": "markdown",
      "metadata": {
        "id": "nMrAXKx5aAxF"
      },
      "source": [
        "Item yang banyak dibeli adalah DOTCOM POSTAGE dengan total penjualan 206248.77\n",
        "\n",
        "catatan:\n",
        "- nilai didapat dengan tetap menghitung jumlah negatif (kemungkinan retur)\n",
        "- urutan paling besar dari kolom Total per Barang"
      ]
    },
    {
      "cell_type": "code",
      "metadata": {
        "colab": {
          "base_uri": "https://localhost:8080/"
        },
        "id": "Ikwr9DR0w79m",
        "outputId": "d55d1333-d5dc-451e-a79b-3614806a57ac"
      },
      "source": [
        "df2.groupby('Barang')['Total'].sum().sort_values(ascending=False).head(5)"
      ],
      "execution_count": 9,
      "outputs": [
        {
          "output_type": "execute_result",
          "data": {
            "text/plain": [
              "Barang\n",
              "DOTCOM POSTAGE                        206245.48\n",
              "REGENCY CAKESTAND 3 TIER              164762.19\n",
              "WHITE HANGING HEART T-LIGHT HOLDER     99668.47\n",
              "PARTY BUNTING                          98302.98\n",
              "JUMBO BAG RED RETROSPOT                92356.03\n",
              "Name: Total, dtype: float64"
            ]
          },
          "metadata": {
            "tags": []
          },
          "execution_count": 9
        }
      ]
    },
    {
      "cell_type": "markdown",
      "metadata": {
        "id": "WKhLol2ladRo"
      },
      "source": [
        "Item yang  bisa di ingnore adalah PADS TO MATCH ALL CUSHIONS dengan total penjualan 0.003\n",
        "\n",
        "catatan:\n",
        "-  nilai didapat dengan tanpa menghitung jumlah negatif (kemungkinan retur)\n",
        "-  urutan paling kecil dari kolom Total per Barang"
      ]
    },
    {
      "cell_type": "code",
      "metadata": {
        "colab": {
          "base_uri": "https://localhost:8080/"
        },
        "id": "2PxerSKpUhDE",
        "outputId": "11596e39-47a4-4bd8-a09a-d81ffe8cc21d"
      },
      "source": [
        "df2[df2['Total']>0].groupby('Barang')['Total'].sum().sort_values(ascending=True).head(5)"
      ],
      "execution_count": 10,
      "outputs": [
        {
          "output_type": "execute_result",
          "data": {
            "text/plain": [
              "Barang\n",
              "PADS TO MATCH ALL CUSHIONS         0.003\n",
              "HEN HOUSE W CHICK IN NEST          0.420\n",
              "SET 12 COLOURING PENCILS DOILEY    0.650\n",
              "VINTAGE BLUE TINSEL REEL           0.840\n",
              "PINK CRYSTAL GUITAR PHONE CHARM    0.850\n",
              "Name: Total, dtype: float64"
            ]
          },
          "metadata": {
            "tags": []
          },
          "execution_count": 10
        }
      ]
    },
    {
      "cell_type": "markdown",
      "metadata": {
        "id": "gLuUCUjkbcdD"
      },
      "source": [
        "**2.What is our strategy to increase sales based on our export destination countries?**\n",
        "\n",
        "Stretegi yang bisa digunakan adalah dengan melakukan export ke United Kingdom karena :\n",
        "- Jumlah penjulan terbesar\n",
        "- Jumlah pelanggan terbanyak\n",
        "- frekuensi transaksi terbanyak\n",
        "\n",
        "Jika ingin meningkatkan penjualan dengan memperluas pasar, produk yang dapat diperbanyak exportnya adalah WHITE HANGING HEART T-LIGHT HOLDER karena :\n",
        "- Jumlah pelanggan terbanyak, artinya produk yang paling disukai\n",
        "- Frekuensi transaksi terbanyak\n",
        "- Top 5 jumlah item terjual terbanyak\n",
        "- Top 3 total penjualan terbanyak\n",
        "\n",
        "Namun jika ingin mencoba menaikan nilai penjualan saja dapat meningkatkan frekuensi transaksi REGENCY CAKESTAND 3 TIER karena :\n",
        "- Top 2 total penjualan terbanyak\n",
        "- Top 2 total pelanggan\n",
        "- Top 3 frekuensi terbanyak\n",
        "- Jumlah item terjual tidak masuk top 10, namun nilai penjualan besar\n"
      ]
    },
    {
      "cell_type": "code",
      "metadata": {
        "colab": {
          "base_uri": "https://localhost:8080/"
        },
        "id": "cczgzn9ObjQE",
        "outputId": "3a7db596-9a0d-47c1-a81a-b97a969ba78a"
      },
      "source": [
        "# cek total per negara\n",
        "df2.groupby('Negara')['Total'].sum().sort_values(ascending=False).head(5)"
      ],
      "execution_count": 11,
      "outputs": [
        {
          "output_type": "execute_result",
          "data": {
            "text/plain": [
              "Negara\n",
              "United Kingdom    8.130586e+06\n",
              "Netherlands       2.832391e+05\n",
              "EIRE              2.616433e+05\n",
              "Germany           2.207609e+05\n",
              "France            1.970705e+05\n",
              "Name: Total, dtype: float64"
            ]
          },
          "metadata": {
            "tags": []
          },
          "execution_count": 11
        }
      ]
    },
    {
      "cell_type": "code",
      "metadata": {
        "colab": {
          "base_uri": "https://localhost:8080/"
        },
        "id": "yXdrwyjjb4WP",
        "outputId": "5ba35d16-0055-43d9-f68c-5bad0f645caf"
      },
      "source": [
        "#cek jumlah pelanggan per negara\n",
        "df2.groupby('Negara')['Kode_Pelanggan'].count().sort_values(ascending=False).head(5)"
      ],
      "execution_count": 12,
      "outputs": [
        {
          "output_type": "execute_result",
          "data": {
            "text/plain": [
              "Negara\n",
              "United Kingdom    358505\n",
              "Germany             9448\n",
              "France              8459\n",
              "EIRE                7428\n",
              "Spain               2513\n",
              "Name: Kode_Pelanggan, dtype: int64"
            ]
          },
          "metadata": {
            "tags": []
          },
          "execution_count": 12
        }
      ]
    },
    {
      "cell_type": "code",
      "metadata": {
        "colab": {
          "base_uri": "https://localhost:8080/"
        },
        "id": "C-V4e5LjcNtR",
        "outputId": "c0663416-a6a2-4d79-cb2f-908e9d49ab97"
      },
      "source": [
        "#cek frekuensi transaksi per negara\n",
        "df2.groupby('Negara')['Kode_Bayar'].count().sort_values(ascending=False).head(5)"
      ],
      "execution_count": 13,
      "outputs": [
        {
          "output_type": "execute_result",
          "data": {
            "text/plain": [
              "Negara\n",
              "United Kingdom    489721\n",
              "Germany             9448\n",
              "France              8525\n",
              "EIRE                8138\n",
              "Spain               2513\n",
              "Name: Kode_Bayar, dtype: int64"
            ]
          },
          "metadata": {
            "tags": []
          },
          "execution_count": 13
        }
      ]
    },
    {
      "cell_type": "code",
      "metadata": {
        "colab": {
          "base_uri": "https://localhost:8080/"
        },
        "id": "M3dbLSPkck30",
        "outputId": "e2e5a879-c0c6-4319-9718-af1a8b9e07bd"
      },
      "source": [
        "#cek Total penjualan Barang United Kingdom\n",
        "df2[df2['Negara']=='United Kingdom'].groupby('Barang')['Total'].sum().sort_values(ascending=False).head(5)"
      ],
      "execution_count": 14,
      "outputs": [
        {
          "output_type": "execute_result",
          "data": {
            "text/plain": [
              "Barang\n",
              "DOTCOM POSTAGE                        206245.48\n",
              "REGENCY CAKESTAND 3 TIER              134405.94\n",
              "WHITE HANGING HEART T-LIGHT HOLDER     93953.07\n",
              "PARTY BUNTING                          92501.73\n",
              "JUMBO BAG RED RETROSPOT                84516.44\n",
              "Name: Total, dtype: float64"
            ]
          },
          "metadata": {
            "tags": []
          },
          "execution_count": 14
        }
      ]
    },
    {
      "cell_type": "code",
      "metadata": {
        "colab": {
          "base_uri": "https://localhost:8080/"
        },
        "id": "b2qZ1ScIc-Ax",
        "outputId": "e2a46ca9-1f14-468c-aa16-9bb2c38d98a8"
      },
      "source": [
        "#cek Frekuensi Transaksi Barang United Kingdom\n",
        "df2[df2['Negara']=='United Kingdom'].groupby('Barang')['Kode_Bayar'].count().sort_values(ascending=False).head(5)"
      ],
      "execution_count": 15,
      "outputs": [
        {
          "output_type": "execute_result",
          "data": {
            "text/plain": [
              "Barang\n",
              "WHITE HANGING HEART T-LIGHT HOLDER    2271\n",
              "JUMBO BAG RED RETROSPOT               2001\n",
              "REGENCY CAKESTAND 3 TIER              1859\n",
              "PARTY BUNTING                         1634\n",
              "LUNCH BAG RED RETROSPOT               1460\n",
              "Name: Kode_Bayar, dtype: int64"
            ]
          },
          "metadata": {
            "tags": []
          },
          "execution_count": 15
        }
      ]
    },
    {
      "cell_type": "code",
      "metadata": {
        "colab": {
          "base_uri": "https://localhost:8080/"
        },
        "id": "8-7eLY-nl93N",
        "outputId": "b32e7d35-b705-471f-fc4f-1c95323d36ea"
      },
      "source": [
        "#cek Jumlah Barang United Kingdom\n",
        "df2[df2['Negara']=='United Kingdom'].groupby('Barang')['Jumlah'].sum().sort_values(ascending=False).head(5)"
      ],
      "execution_count": 16,
      "outputs": [
        {
          "output_type": "execute_result",
          "data": {
            "text/plain": [
              "Barang\n",
              "WORLD WAR 2 GLIDERS ASSTD DESIGNS     48326.0\n",
              "JUMBO BAG RED RETROSPOT               43167.0\n",
              "POPCORN HOLDER                        34365.0\n",
              "ASSORTED COLOUR BIRD ORNAMENT         33679.0\n",
              "WHITE HANGING HEART T-LIGHT HOLDER    33193.0\n",
              "Name: Jumlah, dtype: float64"
            ]
          },
          "metadata": {
            "tags": []
          },
          "execution_count": 16
        }
      ]
    },
    {
      "cell_type": "code",
      "metadata": {
        "colab": {
          "base_uri": "https://localhost:8080/"
        },
        "id": "QtPw1pCFnDq8",
        "outputId": "c827dbe4-9c18-4978-9a1c-8f98bfd1738e"
      },
      "source": [
        "#cek Jumlah Pelanggan per Barang United Kingdom\n",
        "df2[df2['Negara']=='United Kingdom'].groupby('Barang')['Kode_Pelanggan'].count().sort_values(ascending=False).head(5)"
      ],
      "execution_count": 17,
      "outputs": [
        {
          "output_type": "execute_result",
          "data": {
            "text/plain": [
              "Barang\n",
              "WHITE HANGING HEART T-LIGHT HOLDER    1980\n",
              "REGENCY CAKESTAND 3 TIER              1574\n",
              "JUMBO BAG RED RETROSPOT               1505\n",
              "ASSORTED COLOUR BIRD ORNAMENT         1343\n",
              "PARTY BUNTING                         1327\n",
              "Name: Kode_Pelanggan, dtype: int64"
            ]
          },
          "metadata": {
            "tags": []
          },
          "execution_count": 17
        }
      ]
    },
    {
      "cell_type": "markdown",
      "metadata": {
        "id": "Kia16CkGqa1l"
      },
      "source": [
        "**3.\tDo customer segmentation appropriately**"
      ]
    },
    {
      "cell_type": "code",
      "metadata": {
        "id": "xCzLLDwW9MDn"
      },
      "source": [
        "# aggregate pelanggan berdasarkan total penjulan, frekuensi transaksi\n",
        "# ambil yang hanya total > 0 (transaksi penjualan saja) \n",
        "df3 = df2[df2['Total']>0].groupby('Kode_Pelanggan').agg(total = ('Total','sum'),frekuensi=('Kode_Bayar','count')).reset_index()"
      ],
      "execution_count": 53,
      "outputs": []
    },
    {
      "cell_type": "code",
      "metadata": {
        "colab": {
          "base_uri": "https://localhost:8080/"
        },
        "id": "NgA8OAQb-XDV",
        "outputId": "24dd2c39-38d1-4be6-92f7-c04a84e7b462"
      },
      "source": [
        "df3.info()"
      ],
      "execution_count": 42,
      "outputs": [
        {
          "output_type": "stream",
          "text": [
            "<class 'pandas.core.frame.DataFrame'>\n",
            "RangeIndex: 4336 entries, 0 to 4335\n",
            "Data columns (total 3 columns):\n",
            " #   Column          Non-Null Count  Dtype  \n",
            "---  ------          --------------  -----  \n",
            " 0   Kode_Pelanggan  4336 non-null   float64\n",
            " 1   total           4336 non-null   float64\n",
            " 2   frekuensi       4336 non-null   int64  \n",
            "dtypes: float64(2), int64(1)\n",
            "memory usage: 101.8 KB\n"
          ],
          "name": "stdout"
        }
      ]
    },
    {
      "cell_type": "code",
      "metadata": {
        "colab": {
          "base_uri": "https://localhost:8080/",
          "height": 300
        },
        "id": "eBKDdrES-qki",
        "outputId": "7fc9f703-3aa2-45ca-8c47-ea7018c0660b"
      },
      "source": [
        "df3.describe()"
      ],
      "execution_count": 43,
      "outputs": [
        {
          "output_type": "execute_result",
          "data": {
            "text/html": [
              "<div>\n",
              "<style scoped>\n",
              "    .dataframe tbody tr th:only-of-type {\n",
              "        vertical-align: middle;\n",
              "    }\n",
              "\n",
              "    .dataframe tbody tr th {\n",
              "        vertical-align: top;\n",
              "    }\n",
              "\n",
              "    .dataframe thead th {\n",
              "        text-align: right;\n",
              "    }\n",
              "</style>\n",
              "<table border=\"1\" class=\"dataframe\">\n",
              "  <thead>\n",
              "    <tr style=\"text-align: right;\">\n",
              "      <th></th>\n",
              "      <th>Kode_Pelanggan</th>\n",
              "      <th>total</th>\n",
              "      <th>frekuensi</th>\n",
              "    </tr>\n",
              "  </thead>\n",
              "  <tbody>\n",
              "    <tr>\n",
              "      <th>count</th>\n",
              "      <td>4336.000000</td>\n",
              "      <td>4336.000000</td>\n",
              "      <td>4336.000000</td>\n",
              "    </tr>\n",
              "    <tr>\n",
              "      <th>mean</th>\n",
              "      <td>15299.889530</td>\n",
              "      <td>2003.978479</td>\n",
              "      <td>90.937039</td>\n",
              "    </tr>\n",
              "    <tr>\n",
              "      <th>std</th>\n",
              "      <td>1721.578508</td>\n",
              "      <td>8592.904689</td>\n",
              "      <td>226.114121</td>\n",
              "    </tr>\n",
              "    <tr>\n",
              "      <th>min</th>\n",
              "      <td>12346.000000</td>\n",
              "      <td>2.900000</td>\n",
              "      <td>1.000000</td>\n",
              "    </tr>\n",
              "    <tr>\n",
              "      <th>25%</th>\n",
              "      <td>13812.750000</td>\n",
              "      <td>305.717500</td>\n",
              "      <td>17.000000</td>\n",
              "    </tr>\n",
              "    <tr>\n",
              "      <th>50%</th>\n",
              "      <td>15299.500000</td>\n",
              "      <td>667.975000</td>\n",
              "      <td>41.000000</td>\n",
              "    </tr>\n",
              "    <tr>\n",
              "      <th>75%</th>\n",
              "      <td>16778.250000</td>\n",
              "      <td>1653.507500</td>\n",
              "      <td>99.000000</td>\n",
              "    </tr>\n",
              "    <tr>\n",
              "      <th>max</th>\n",
              "      <td>18287.000000</td>\n",
              "      <td>278788.580000</td>\n",
              "      <td>7755.000000</td>\n",
              "    </tr>\n",
              "  </tbody>\n",
              "</table>\n",
              "</div>"
            ],
            "text/plain": [
              "       Kode_Pelanggan          total    frekuensi\n",
              "count     4336.000000    4336.000000  4336.000000\n",
              "mean     15299.889530    2003.978479    90.937039\n",
              "std       1721.578508    8592.904689   226.114121\n",
              "min      12346.000000       2.900000     1.000000\n",
              "25%      13812.750000     305.717500    17.000000\n",
              "50%      15299.500000     667.975000    41.000000\n",
              "75%      16778.250000    1653.507500    99.000000\n",
              "max      18287.000000  278788.580000  7755.000000"
            ]
          },
          "metadata": {
            "tags": []
          },
          "execution_count": 43
        }
      ]
    },
    {
      "cell_type": "code",
      "metadata": {
        "id": "XKFd0qULPydK",
        "colab": {
          "base_uri": "https://localhost:8080/",
          "height": 438
        },
        "outputId": "075871ab-2497-4b1c-f77b-370d57e5feac"
      },
      "source": [
        "# amati masing-masing fitur\n",
        "plt.figure(1 , figsize = (15 , 6))\n",
        "n = 0\n",
        "for x in ['total','frekuensi']:\n",
        "  n += 1\n",
        "  plt.subplot(1 , 2 , n)\n",
        "  plt.subplots_adjust(hspace =0.5 , wspace = 0.5)\n",
        "  sns.distplot(df3[x] , bins = 20)\n",
        "  plt.title('Distplot of {}'.format(x))\n",
        "plt.show()"
      ],
      "execution_count": 45,
      "outputs": [
        {
          "output_type": "stream",
          "text": [
            "/usr/local/lib/python3.7/dist-packages/seaborn/distributions.py:2557: FutureWarning: `distplot` is a deprecated function and will be removed in a future version. Please adapt your code to use either `displot` (a figure-level function with similar flexibility) or `histplot` (an axes-level function for histograms).\n",
            "  warnings.warn(msg, FutureWarning)\n",
            "/usr/local/lib/python3.7/dist-packages/seaborn/distributions.py:2557: FutureWarning: `distplot` is a deprecated function and will be removed in a future version. Please adapt your code to use either `displot` (a figure-level function with similar flexibility) or `histplot` (an axes-level function for histograms).\n",
            "  warnings.warn(msg, FutureWarning)\n"
          ],
          "name": "stderr"
        },
        {
          "output_type": "display_data",
          "data": {
            "image/png": "[encoded data removed]",
            "text/plain": [
              "<Figure size 1080x432 with 2 Axes>"
            ]
          },
          "metadata": {
            "tags": []
          }
        }
      ]
    },
    {
      "cell_type": "code",
      "metadata": {
        "id": "_bwfQQZAQ5SZ"
      },
      "source": [
        "# rancang K-Means untuk spending score vs annual income\n",
        "# Kmeans, menentukan jumlah kluster dengan elbow\n",
        "X1 = df3[['total','frekuensi']].iloc[: , :].values\n",
        "inertia = [] #SSE\n",
        "for n in range(1 , 15):\n",
        "  algorithm = (KMeans(n_clusters = n ,init='k-means++', n_init = 10 , max_iter=300, random_state= 111) )\n",
        "  algorithm.fit(X1)\n",
        "  inertia.append(algorithm.inertia_)"
      ],
      "execution_count": 47,
      "outputs": []
    },
    {
      "cell_type": "code",
      "metadata": {
        "id": "PRC5qDbuTm_F",
        "colab": {
          "base_uri": "https://localhost:8080/"
        },
        "outputId": "b678d52e-4955-493e-ab3d-5d317bfdc497"
      },
      "source": [
        "#cek nilai SSE\n",
        "inertia[0]"
      ],
      "execution_count": 48,
      "outputs": [
        {
          "output_type": "execute_result",
          "data": {
            "text/plain": [
              "320309415779.6533"
            ]
          },
          "metadata": {
            "tags": []
          },
          "execution_count": 48
        }
      ]
    },
    {
      "cell_type": "code",
      "metadata": {
        "id": "vfy_o3o9SM1j",
        "colab": {
          "base_uri": "https://localhost:8080/",
          "height": 355
        },
        "outputId": "7c91ba25-748a-4fc8-dc4b-a4b7c0118812"
      },
      "source": [
        "# plot elbow\n",
        "plt.figure(1 , figsize = (15 ,6))\n",
        "plt.plot(np.arange(1 , 15) , inertia , 'o')\n",
        "plt.plot(np.arange(1 , 15) , inertia , '-' , alpha = 0.2)\n",
        "plt.xlabel('Number of Clusters') , plt.ylabel('Inertia')\n",
        "plt.show()"
      ],
      "execution_count": 49,
      "outputs": [
        {
          "output_type": "display_data",
          "data": {
            "image/png": "[encoded data removed]",
            "text/plain": [
              "<Figure size 1080x432 with 1 Axes>"
            ]
          },
          "metadata": {
            "tags": []
          }
        }
      ]
    },
    {
      "cell_type": "markdown",
      "metadata": {
        "id": "TNVZaa1oGUgv"
      },
      "source": [
        "Total Cluster Pelanggan dengan menggunakan KMeans adalah sebanyak 3 cluster"
      ]
    },
    {
      "cell_type": "code",
      "metadata": {
        "id": "-PMlhzZiSeBR",
        "colab": {
          "base_uri": "https://localhost:8080/"
        },
        "outputId": "63994664-e29a-4cf3-a296-12ed4dc037b1"
      },
      "source": [
        "# bangun K-Means dengan k =3 (berdasarkan gambar diatas)\n",
        "algorithm = (KMeans(n_clusters = 3 ,init='k-means++', n_init = 10 ,max_iter=300, tol=0.0001, random_state= 111 , algorithm='elkan') )\n",
        "algorithm.fit(X1)\n"
      ],
      "execution_count": 50,
      "outputs": [
        {
          "output_type": "execute_result",
          "data": {
            "text/plain": [
              "KMeans(algorithm='elkan', copy_x=True, init='k-means++', max_iter=300,\n",
              "       n_clusters=3, n_init=10, n_jobs=None, precompute_distances='auto',\n",
              "       random_state=111, tol=0.0001, verbose=0)"
            ]
          },
          "metadata": {
            "tags": []
          },
          "execution_count": 50
        }
      ]
    },
    {
      "cell_type": "code",
      "metadata": {
        "id": "wXvmhSRcD2xH"
      },
      "source": [
        "y_kmeans = algorithm.fit_predict(X1)"
      ],
      "execution_count": 34,
      "outputs": []
    },
    {
      "cell_type": "code",
      "metadata": {
        "colab": {
          "base_uri": "https://localhost:8080/",
          "height": 325
        },
        "id": "5aEjTMM0EAJz",
        "outputId": "62b3ca7a-e524-44e1-a3a5-f384a3c01a9e"
      },
      "source": [
        "# Visualisasikan\n",
        "plt.scatter(X1[y_kmeans==0, 0], X1[y_kmeans==0, 1], s=100, c='blue', label ='Cluster 1')\n",
        "plt.scatter(X1[y_kmeans==1, 0], X1[y_kmeans==1, 1], s=100, c='green', label ='Cluster 2')\n",
        "plt.scatter(X1[y_kmeans==2, 0], X1[y_kmeans==2, 1], s=100, c='cyan', label ='Cluster 3')\n",
        "\n",
        "plt.scatter(algorithm.cluster_centers_[:, 0], algorithm.cluster_centers_[:, 1], s=300, c='yellow', label = 'Centroids')\n",
        "plt.title('Clusters of Customers')\n",
        "plt.xlabel('total')\n",
        "plt.ylabel('frekuensi')\n",
        "plt.show()"
      ],
      "execution_count": 51,
      "outputs": [
        {
          "output_type": "display_data",
          "data": {
            "image/png": "[encoded data removed]",
            "text/plain": [
              "<Figure size 432x288 with 1 Axes>"
            ]
          },
          "metadata": {
            "tags": []
          }
        }
      ]
    },
    {
      "cell_type": "markdown",
      "metadata": {
        "id": "VO80aXVMF3W6"
      },
      "source": [
        "**Get the hidden insight from the data**"
      ]
    },
    {
      "cell_type": "code",
      "metadata": {
        "colab": {
          "base_uri": "https://localhost:8080/"
        },
        "id": "pJkiKo37F2gP",
        "outputId": "a9255dbe-d731-429b-83f7-abe321158cdf"
      },
      "source": [
        "# barang paling banyak penjualannya\n",
        "df2[df2['Total']>0].groupby('Barang')['Total'].sum().sort_values(ascending=False).head(5)"
      ],
      "execution_count": 62,
      "outputs": [
        {
          "output_type": "execute_result",
          "data": {
            "text/plain": [
              "Barang\n",
              "DOTCOM POSTAGE                        206248.77\n",
              "REGENCY CAKESTAND 3 TIER              174484.74\n",
              "WHITE HANGING HEART T-LIGHT HOLDER    106292.77\n",
              "PARTY BUNTING                          99504.33\n",
              "JUMBO BAG RED RETROSPOT                94340.05\n",
              "Name: Total, dtype: float64"
            ]
          },
          "metadata": {
            "tags": []
          },
          "execution_count": 62
        }
      ]
    },
    {
      "cell_type": "code",
      "metadata": {
        "colab": {
          "base_uri": "https://localhost:8080/"
        },
        "id": "poXssNZsGj4q",
        "outputId": "5ae6cc6c-e2f4-4f38-c460-64c183a086a7"
      },
      "source": [
        "# barang paling sering di retur atau cancel\n",
        "df2[df2['Total']<0].groupby('Barang')['Total'].sum().sort_values(ascending=True).head(5)"
      ],
      "execution_count": 63,
      "outputs": [
        {
          "output_type": "execute_result",
          "data": {
            "text/plain": [
              "Barang\n",
              "AMAZON FEE                       -235281.59\n",
              "Manual                           -146784.46\n",
              "MEDIUM CERAMIC TOP STORAGE JAR    -77479.64\n",
              "Adjust bad debt                   -22124.12\n",
              "POSTAGE                           -11871.24\n",
              "Name: Total, dtype: float64"
            ]
          },
          "metadata": {
            "tags": []
          },
          "execution_count": 63
        }
      ]
    },
    {
      "cell_type": "code",
      "metadata": {
        "colab": {
          "base_uri": "https://localhost:8080/"
        },
        "id": "BLnc76isMr5D",
        "outputId": "b28cec46-9915-4d9f-db65-a4487dd685b2"
      },
      "source": [
        "# transaksi nilai terbesar\n",
        "df2['Total'].sort_values(ascending=False).head(5)"
      ],
      "execution_count": 82,
      "outputs": [
        {
          "output_type": "execute_result",
          "data": {
            "text/plain": [
              "61619     77183.60\n",
              "222680    38970.00\n",
              "15017     13541.33\n",
              "299982    11062.06\n",
              "173382     8142.75\n",
              "Name: Total, dtype: float64"
            ]
          },
          "metadata": {
            "tags": []
          },
          "execution_count": 82
        }
      ]
    },
    {
      "cell_type": "code",
      "metadata": {
        "colab": {
          "base_uri": "https://localhost:8080/"
        },
        "id": "nQFNtev5IvwY",
        "outputId": "3b0e2313-3baf-447c-c31b-ac1079730fb8"
      },
      "source": [
        "# jumlah negara yang ada di dalam dataset\n",
        "len(df['Negara'].unique())"
      ],
      "execution_count": 77,
      "outputs": [
        {
          "output_type": "execute_result",
          "data": {
            "text/plain": [
              "39"
            ]
          },
          "metadata": {
            "tags": []
          },
          "execution_count": 77
        }
      ]
    },
    {
      "cell_type": "code",
      "metadata": {
        "colab": {
          "base_uri": "https://localhost:8080/",
          "height": 1000
        },
        "id": "G39Li6G0JtFu",
        "outputId": "c8322b7c-f7c5-4448-fe6f-47be4da22848"
      },
      "source": [
        "# transaksi terbesar ada di Inggris namun diretur atau cancel\n",
        "df2.groupby('Negara')['Total'].describe()"
      ],
      "execution_count": 78,
      "outputs": [
        {
          "output_type": "execute_result",
          "data": {
            "text/html": [
              "<div>\n",
              "<style scoped>\n",
              "    .dataframe tbody tr th:only-of-type {\n",
              "        vertical-align: middle;\n",
              "    }\n",
              "\n",
              "    .dataframe tbody tr th {\n",
              "        vertical-align: top;\n",
              "    }\n",
              "\n",
              "    .dataframe thead th {\n",
              "        text-align: right;\n",
              "    }\n",
              "</style>\n",
              "<table border=\"1\" class=\"dataframe\">\n",
              "  <thead>\n",
              "    <tr style=\"text-align: right;\">\n",
              "      <th></th>\n",
              "      <th>count</th>\n",
              "      <th>mean</th>\n",
              "      <th>std</th>\n",
              "      <th>min</th>\n",
              "      <th>25%</th>\n",
              "      <th>50%</th>\n",
              "      <th>75%</th>\n",
              "      <th>max</th>\n",
              "    </tr>\n",
              "    <tr>\n",
              "      <th>Negara</th>\n",
              "      <th></th>\n",
              "      <th></th>\n",
              "      <th></th>\n",
              "      <th></th>\n",
              "      <th></th>\n",
              "      <th></th>\n",
              "      <th></th>\n",
              "      <th></th>\n",
              "    </tr>\n",
              "  </thead>\n",
              "  <tbody>\n",
              "    <tr>\n",
              "      <th>Australia</th>\n",
              "      <td>1251.0</td>\n",
              "      <td>108.148449</td>\n",
              "      <td>158.659332</td>\n",
              "      <td>-425.00</td>\n",
              "      <td>16.5000</td>\n",
              "      <td>51.84</td>\n",
              "      <td>145.0000</td>\n",
              "      <td>1718.40</td>\n",
              "    </tr>\n",
              "    <tr>\n",
              "      <th>Austria</th>\n",
              "      <td>399.0</td>\n",
              "      <td>25.398446</td>\n",
              "      <td>34.647475</td>\n",
              "      <td>-21.25</td>\n",
              "      <td>13.5000</td>\n",
              "      <td>17.00</td>\n",
              "      <td>22.5000</td>\n",
              "      <td>360.00</td>\n",
              "    </tr>\n",
              "    <tr>\n",
              "      <th>Bahrain</th>\n",
              "      <td>19.0</td>\n",
              "      <td>28.863158</td>\n",
              "      <td>73.816333</td>\n",
              "      <td>-205.74</td>\n",
              "      <td>17.7000</td>\n",
              "      <td>25.50</td>\n",
              "      <td>34.8000</td>\n",
              "      <td>205.74</td>\n",
              "    </tr>\n",
              "    <tr>\n",
              "      <th>Belgium</th>\n",
              "      <td>2060.0</td>\n",
              "      <td>19.771350</td>\n",
              "      <td>15.575826</td>\n",
              "      <td>-19.95</td>\n",
              "      <td>13.0000</td>\n",
              "      <td>16.60</td>\n",
              "      <td>20.4000</td>\n",
              "      <td>165.00</td>\n",
              "    </tr>\n",
              "    <tr>\n",
              "      <th>Brazil</th>\n",
              "      <td>32.0</td>\n",
              "      <td>35.737500</td>\n",
              "      <td>32.896282</td>\n",
              "      <td>15.00</td>\n",
              "      <td>16.5000</td>\n",
              "      <td>19.65</td>\n",
              "      <td>47.4750</td>\n",
              "      <td>175.20</td>\n",
              "    </tr>\n",
              "    <tr>\n",
              "      <th>Canada</th>\n",
              "      <td>147.0</td>\n",
              "      <td>24.487619</td>\n",
              "      <td>61.925670</td>\n",
              "      <td>2.50</td>\n",
              "      <td>10.5000</td>\n",
              "      <td>16.50</td>\n",
              "      <td>19.8000</td>\n",
              "      <td>550.94</td>\n",
              "    </tr>\n",
              "    <tr>\n",
              "      <th>Channel Islands</th>\n",
              "      <td>753.0</td>\n",
              "      <td>26.494741</td>\n",
              "      <td>39.853356</td>\n",
              "      <td>-293.00</td>\n",
              "      <td>15.0000</td>\n",
              "      <td>17.70</td>\n",
              "      <td>25.2000</td>\n",
              "      <td>408.00</td>\n",
              "    </tr>\n",
              "    <tr>\n",
              "      <th>Cyprus</th>\n",
              "      <td>615.0</td>\n",
              "      <td>20.798878</td>\n",
              "      <td>34.234603</td>\n",
              "      <td>-320.69</td>\n",
              "      <td>9.9500</td>\n",
              "      <td>15.90</td>\n",
              "      <td>22.5000</td>\n",
              "      <td>320.69</td>\n",
              "    </tr>\n",
              "    <tr>\n",
              "      <th>Czech Republic</th>\n",
              "      <td>30.0</td>\n",
              "      <td>23.590667</td>\n",
              "      <td>26.302604</td>\n",
              "      <td>-35.76</td>\n",
              "      <td>15.6000</td>\n",
              "      <td>25.30</td>\n",
              "      <td>39.7800</td>\n",
              "      <td>70.80</td>\n",
              "    </tr>\n",
              "    <tr>\n",
              "      <th>Denmark</th>\n",
              "      <td>385.0</td>\n",
              "      <td>48.480987</td>\n",
              "      <td>72.570102</td>\n",
              "      <td>-59.80</td>\n",
              "      <td>13.9200</td>\n",
              "      <td>23.40</td>\n",
              "      <td>45.9000</td>\n",
              "      <td>428.40</td>\n",
              "    </tr>\n",
              "    <tr>\n",
              "      <th>EIRE</th>\n",
              "      <td>8138.0</td>\n",
              "      <td>32.150809</td>\n",
              "      <td>95.162841</td>\n",
              "      <td>-1917.00</td>\n",
              "      <td>13.2000</td>\n",
              "      <td>17.34</td>\n",
              "      <td>26.4000</td>\n",
              "      <td>2365.20</td>\n",
              "    </tr>\n",
              "    <tr>\n",
              "      <th>European Community</th>\n",
              "      <td>61.0</td>\n",
              "      <td>21.176230</td>\n",
              "      <td>11.514247</td>\n",
              "      <td>-8.50</td>\n",
              "      <td>15.0000</td>\n",
              "      <td>17.70</td>\n",
              "      <td>24.9000</td>\n",
              "      <td>60.00</td>\n",
              "    </tr>\n",
              "    <tr>\n",
              "      <th>Finland</th>\n",
              "      <td>687.0</td>\n",
              "      <td>32.353261</td>\n",
              "      <td>49.400947</td>\n",
              "      <td>-80.00</td>\n",
              "      <td>13.5200</td>\n",
              "      <td>17.85</td>\n",
              "      <td>31.8000</td>\n",
              "      <td>551.20</td>\n",
              "    </tr>\n",
              "    <tr>\n",
              "      <th>France</th>\n",
              "      <td>8525.0</td>\n",
              "      <td>23.116780</td>\n",
              "      <td>117.398301</td>\n",
              "      <td>-8322.12</td>\n",
              "      <td>10.5000</td>\n",
              "      <td>16.50</td>\n",
              "      <td>23.4000</td>\n",
              "      <td>4161.06</td>\n",
              "    </tr>\n",
              "    <tr>\n",
              "      <th>Germany</th>\n",
              "      <td>9448.0</td>\n",
              "      <td>23.365885</td>\n",
              "      <td>37.271544</td>\n",
              "      <td>-599.50</td>\n",
              "      <td>11.7000</td>\n",
              "      <td>16.60</td>\n",
              "      <td>23.4000</td>\n",
              "      <td>876.00</td>\n",
              "    </tr>\n",
              "    <tr>\n",
              "      <th>Greece</th>\n",
              "      <td>145.0</td>\n",
              "      <td>32.033241</td>\n",
              "      <td>36.408891</td>\n",
              "      <td>-50.00</td>\n",
              "      <td>12.6000</td>\n",
              "      <td>16.60</td>\n",
              "      <td>30.0000</td>\n",
              "      <td>175.20</td>\n",
              "    </tr>\n",
              "    <tr>\n",
              "      <th>Hong Kong</th>\n",
              "      <td>285.0</td>\n",
              "      <td>35.220491</td>\n",
              "      <td>313.845677</td>\n",
              "      <td>-2653.95</td>\n",
              "      <td>15.0000</td>\n",
              "      <td>23.40</td>\n",
              "      <td>47.7000</td>\n",
              "      <td>2653.95</td>\n",
              "    </tr>\n",
              "    <tr>\n",
              "      <th>Iceland</th>\n",
              "      <td>181.0</td>\n",
              "      <td>23.755801</td>\n",
              "      <td>23.332761</td>\n",
              "      <td>5.04</td>\n",
              "      <td>13.2000</td>\n",
              "      <td>17.00</td>\n",
              "      <td>25.2000</td>\n",
              "      <td>249.60</td>\n",
              "    </tr>\n",
              "    <tr>\n",
              "      <th>Israel</th>\n",
              "      <td>294.0</td>\n",
              "      <td>26.759932</td>\n",
              "      <td>35.860694</td>\n",
              "      <td>-136.00</td>\n",
              "      <td>10.0500</td>\n",
              "      <td>17.85</td>\n",
              "      <td>30.0000</td>\n",
              "      <td>350.40</td>\n",
              "    </tr>\n",
              "    <tr>\n",
              "      <th>Italy</th>\n",
              "      <td>793.0</td>\n",
              "      <td>20.814666</td>\n",
              "      <td>21.778427</td>\n",
              "      <td>-89.55</td>\n",
              "      <td>13.5000</td>\n",
              "      <td>17.40</td>\n",
              "      <td>23.4000</td>\n",
              "      <td>300.00</td>\n",
              "    </tr>\n",
              "    <tr>\n",
              "      <th>Japan</th>\n",
              "      <td>350.0</td>\n",
              "      <td>98.903029</td>\n",
              "      <td>314.781459</td>\n",
              "      <td>-1591.20</td>\n",
              "      <td>5.0400</td>\n",
              "      <td>61.20</td>\n",
              "      <td>120.0000</td>\n",
              "      <td>3794.40</td>\n",
              "    </tr>\n",
              "    <tr>\n",
              "      <th>Lebanon</th>\n",
              "      <td>45.0</td>\n",
              "      <td>37.641778</td>\n",
              "      <td>29.117840</td>\n",
              "      <td>10.20</td>\n",
              "      <td>17.0000</td>\n",
              "      <td>31.60</td>\n",
              "      <td>47.4000</td>\n",
              "      <td>153.00</td>\n",
              "    </tr>\n",
              "    <tr>\n",
              "      <th>Lithuania</th>\n",
              "      <td>35.0</td>\n",
              "      <td>47.458857</td>\n",
              "      <td>23.824265</td>\n",
              "      <td>13.20</td>\n",
              "      <td>28.2000</td>\n",
              "      <td>45.00</td>\n",
              "      <td>60.0000</td>\n",
              "      <td>122.40</td>\n",
              "    </tr>\n",
              "    <tr>\n",
              "      <th>Malta</th>\n",
              "      <td>126.0</td>\n",
              "      <td>19.866587</td>\n",
              "      <td>45.452287</td>\n",
              "      <td>-130.00</td>\n",
              "      <td>11.6750</td>\n",
              "      <td>17.00</td>\n",
              "      <td>19.8000</td>\n",
              "      <td>455.00</td>\n",
              "    </tr>\n",
              "    <tr>\n",
              "      <th>Netherlands</th>\n",
              "      <td>2355.0</td>\n",
              "      <td>120.271363</td>\n",
              "      <td>164.697583</td>\n",
              "      <td>-266.40</td>\n",
              "      <td>30.0000</td>\n",
              "      <td>91.80</td>\n",
              "      <td>158.4000</td>\n",
              "      <td>4992.00</td>\n",
              "    </tr>\n",
              "    <tr>\n",
              "      <th>Norway</th>\n",
              "      <td>1079.0</td>\n",
              "      <td>32.352298</td>\n",
              "      <td>46.963823</td>\n",
              "      <td>-376.50</td>\n",
              "      <td>15.0000</td>\n",
              "      <td>19.80</td>\n",
              "      <td>35.4000</td>\n",
              "      <td>700.00</td>\n",
              "    </tr>\n",
              "    <tr>\n",
              "      <th>Poland</th>\n",
              "      <td>340.0</td>\n",
              "      <td>21.156882</td>\n",
              "      <td>16.222014</td>\n",
              "      <td>-39.80</td>\n",
              "      <td>14.8500</td>\n",
              "      <td>17.40</td>\n",
              "      <td>24.9125</td>\n",
              "      <td>120.00</td>\n",
              "    </tr>\n",
              "    <tr>\n",
              "      <th>Portugal</th>\n",
              "      <td>1514.0</td>\n",
              "      <td>19.334439</td>\n",
              "      <td>74.603115</td>\n",
              "      <td>-1241.98</td>\n",
              "      <td>9.7875</td>\n",
              "      <td>15.80</td>\n",
              "      <td>20.8000</td>\n",
              "      <td>1241.98</td>\n",
              "    </tr>\n",
              "    <tr>\n",
              "      <th>RSA</th>\n",
              "      <td>58.0</td>\n",
              "      <td>17.281207</td>\n",
              "      <td>6.490031</td>\n",
              "      <td>0.00</td>\n",
              "      <td>13.8275</td>\n",
              "      <td>16.50</td>\n",
              "      <td>20.8000</td>\n",
              "      <td>38.25</td>\n",
              "    </tr>\n",
              "    <tr>\n",
              "      <th>Saudi Arabia</th>\n",
              "      <td>10.0</td>\n",
              "      <td>13.117000</td>\n",
              "      <td>10.861336</td>\n",
              "      <td>-14.75</td>\n",
              "      <td>12.5850</td>\n",
              "      <td>17.70</td>\n",
              "      <td>19.2750</td>\n",
              "      <td>19.80</td>\n",
              "    </tr>\n",
              "    <tr>\n",
              "      <th>Singapore</th>\n",
              "      <td>228.0</td>\n",
              "      <td>39.713553</td>\n",
              "      <td>529.068412</td>\n",
              "      <td>-3949.32</td>\n",
              "      <td>16.7500</td>\n",
              "      <td>34.00</td>\n",
              "      <td>60.0000</td>\n",
              "      <td>3949.32</td>\n",
              "    </tr>\n",
              "    <tr>\n",
              "      <th>Spain</th>\n",
              "      <td>2513.0</td>\n",
              "      <td>21.733888</td>\n",
              "      <td>84.254859</td>\n",
              "      <td>-1715.85</td>\n",
              "      <td>9.9000</td>\n",
              "      <td>15.00</td>\n",
              "      <td>19.8000</td>\n",
              "      <td>1350.00</td>\n",
              "    </tr>\n",
              "    <tr>\n",
              "      <th>Sweden</th>\n",
              "      <td>459.0</td>\n",
              "      <td>79.246514</td>\n",
              "      <td>132.851757</td>\n",
              "      <td>-1188.00</td>\n",
              "      <td>15.0000</td>\n",
              "      <td>30.00</td>\n",
              "      <td>114.4500</td>\n",
              "      <td>1188.00</td>\n",
              "    </tr>\n",
              "    <tr>\n",
              "      <th>Switzerland</th>\n",
              "      <td>1991.0</td>\n",
              "      <td>28.208855</td>\n",
              "      <td>35.933410</td>\n",
              "      <td>-179.00</td>\n",
              "      <td>12.4800</td>\n",
              "      <td>17.40</td>\n",
              "      <td>30.0000</td>\n",
              "      <td>360.00</td>\n",
              "    </tr>\n",
              "    <tr>\n",
              "      <th>USA</th>\n",
              "      <td>291.0</td>\n",
              "      <td>5.948179</td>\n",
              "      <td>21.614088</td>\n",
              "      <td>-74.88</td>\n",
              "      <td>-13.2000</td>\n",
              "      <td>10.50</td>\n",
              "      <td>17.5500</td>\n",
              "      <td>81.36</td>\n",
              "    </tr>\n",
              "    <tr>\n",
              "      <th>United Arab Emirates</th>\n",
              "      <td>67.0</td>\n",
              "      <td>28.016119</td>\n",
              "      <td>24.595562</td>\n",
              "      <td>3.48</td>\n",
              "      <td>15.1500</td>\n",
              "      <td>20.40</td>\n",
              "      <td>29.8500</td>\n",
              "      <td>153.00</td>\n",
              "    </tr>\n",
              "    <tr>\n",
              "      <th>United Kingdom</th>\n",
              "      <td>489721.0</td>\n",
              "      <td>16.602486</td>\n",
              "      <td>204.479757</td>\n",
              "      <td>-77183.60</td>\n",
              "      <td>3.3000</td>\n",
              "      <td>8.29</td>\n",
              "      <td>16.6300</td>\n",
              "      <td>77183.60</td>\n",
              "    </tr>\n",
              "    <tr>\n",
              "      <th>Unspecified</th>\n",
              "      <td>444.0</td>\n",
              "      <td>10.690653</td>\n",
              "      <td>9.542528</td>\n",
              "      <td>0.39</td>\n",
              "      <td>2.5500</td>\n",
              "      <td>8.90</td>\n",
              "      <td>16.3875</td>\n",
              "      <td>69.36</td>\n",
              "    </tr>\n",
              "  </tbody>\n",
              "</table>\n",
              "</div>"
            ],
            "text/plain": [
              "                         count        mean  ...       75%       max\n",
              "Negara                                      ...                    \n",
              "Australia               1251.0  108.148449  ...  145.0000   1718.40\n",
              "Austria                  399.0   25.398446  ...   22.5000    360.00\n",
              "Bahrain                   19.0   28.863158  ...   34.8000    205.74\n",
              "Belgium                 2060.0   19.771350  ...   20.4000    165.00\n",
              "Brazil                    32.0   35.737500  ...   47.4750    175.20\n",
              "Canada                   147.0   24.487619  ...   19.8000    550.94\n",
              "Channel Islands          753.0   26.494741  ...   25.2000    408.00\n",
              "Cyprus                   615.0   20.798878  ...   22.5000    320.69\n",
              "Czech Republic            30.0   23.590667  ...   39.7800     70.80\n",
              "Denmark                  385.0   48.480987  ...   45.9000    428.40\n",
              "EIRE                    8138.0   32.150809  ...   26.4000   2365.20\n",
              "European Community        61.0   21.176230  ...   24.9000     60.00\n",
              "Finland                  687.0   32.353261  ...   31.8000    551.20\n",
              "France                  8525.0   23.116780  ...   23.4000   4161.06\n",
              "Germany                 9448.0   23.365885  ...   23.4000    876.00\n",
              "Greece                   145.0   32.033241  ...   30.0000    175.20\n",
              "Hong Kong                285.0   35.220491  ...   47.7000   2653.95\n",
              "Iceland                  181.0   23.755801  ...   25.2000    249.60\n",
              "Israel                   294.0   26.759932  ...   30.0000    350.40\n",
              "Italy                    793.0   20.814666  ...   23.4000    300.00\n",
              "Japan                    350.0   98.903029  ...  120.0000   3794.40\n",
              "Lebanon                   45.0   37.641778  ...   47.4000    153.00\n",
              "Lithuania                 35.0   47.458857  ...   60.0000    122.40\n",
              "Malta                    126.0   19.866587  ...   19.8000    455.00\n",
              "Netherlands             2355.0  120.271363  ...  158.4000   4992.00\n",
              "Norway                  1079.0   32.352298  ...   35.4000    700.00\n",
              "Poland                   340.0   21.156882  ...   24.9125    120.00\n",
              "Portugal                1514.0   19.334439  ...   20.8000   1241.98\n",
              "RSA                       58.0   17.281207  ...   20.8000     38.25\n",
              "Saudi Arabia              10.0   13.117000  ...   19.2750     19.80\n",
              "Singapore                228.0   39.713553  ...   60.0000   3949.32\n",
              "Spain                   2513.0   21.733888  ...   19.8000   1350.00\n",
              "Sweden                   459.0   79.246514  ...  114.4500   1188.00\n",
              "Switzerland             1991.0   28.208855  ...   30.0000    360.00\n",
              "USA                      291.0    5.948179  ...   17.5500     81.36\n",
              "United Arab Emirates      67.0   28.016119  ...   29.8500    153.00\n",
              "United Kingdom        489721.0   16.602486  ...   16.6300  77183.60\n",
              "Unspecified              444.0   10.690653  ...   16.3875     69.36\n",
              "\n",
              "[38 rows x 8 columns]"
            ]
          },
          "metadata": {
            "tags": []
          },
          "execution_count": 78
        }
      ]
    },
    {
      "cell_type": "code",
      "metadata": {
        "colab": {
          "base_uri": "https://localhost:8080/"
        },
        "id": "ljlZ7HpBG4jj",
        "outputId": "cc92b0d7-f30a-4964-c0df-e847fa6dbf17"
      },
      "source": [
        "# pelanggan yang sering transaksi\n",
        "df2.groupby('Kode_Pelanggan')['Kode_Bayar'].count().sort_values(ascending=False).head(5)"
      ],
      "execution_count": 70,
      "outputs": [
        {
          "output_type": "execute_result",
          "data": {
            "text/plain": [
              "Kode_Pelanggan\n",
              "17841.0    7890\n",
              "14911.0    5861\n",
              "14096.0    5038\n",
              "12748.0    4602\n",
              "14606.0    2667\n",
              "Name: Kode_Bayar, dtype: int64"
            ]
          },
          "metadata": {
            "tags": []
          },
          "execution_count": 70
        }
      ]
    }
  ]
}